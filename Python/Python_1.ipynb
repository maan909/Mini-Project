{
 "cells": [
  {
   "cell_type": "markdown",
   "id": "bc4e1934",
   "metadata": {},
   "source": [
    "Operators, Data types "
   ]
  },
  {
   "cell_type": "code",
   "execution_count": 1,
   "id": "b77e4b97",
   "metadata": {},
   "outputs": [
    {
     "data": {
      "text/plain": [
       "10"
      ]
     },
     "execution_count": 1,
     "metadata": {},
     "output_type": "execute_result"
    }
   ],
   "source": [
    "2+3+5"
   ]
  },
  {
   "cell_type": "code",
   "execution_count": 2,
   "id": "2ddcf717",
   "metadata": {},
   "outputs": [
    {
     "data": {
      "text/plain": [
       "68.0"
      ]
     },
     "execution_count": 2,
     "metadata": {},
     "output_type": "execute_result"
    }
   ],
   "source": [
    "(13+15)+(10*5)-(50/5)"
   ]
  },
  {
   "cell_type": "code",
   "execution_count": 3,
   "id": "b4fc7afd",
   "metadata": {},
   "outputs": [
    {
     "data": {
      "text/plain": [
       "25"
      ]
     },
     "execution_count": 3,
     "metadata": {},
     "output_type": "execute_result"
    }
   ],
   "source": [
    "5**2"
   ]
  },
  {
   "cell_type": "code",
   "execution_count": 31,
   "id": "6d7abeaf",
   "metadata": {},
   "outputs": [
    {
     "name": "stdout",
     "output_type": "stream",
     "text": [
      "7\n",
      "7\n",
      "89\n",
      "5\n",
      "6\n",
      "8\n",
      "2\n",
      "[2, 5, 6, 7, 8, 89]\n"
     ]
    }
   ],
   "source": [
    "list=[7,89,5,6,8,2]\n",
    "\n",
    "print(list[0])\n",
    "lenght=len(list)\n",
    "\n",
    "i=0\n",
    "while i <= lenght-1:\n",
    "    print(list[i])\n",
    "    i = i+1\n",
    "\n",
    "\n",
    "# for(i=0,i<=length,i++):\n",
    "#     print(i)\n",
    "    \n",
    "# for i in list:\n",
    "#     print(i)\n",
    "   \n",
    "list.sort()\n",
    "print(list)"
   ]
  },
  {
   "cell_type": "code",
   "execution_count": 32,
   "id": "e9d31aa7",
   "metadata": {},
   "outputs": [
    {
     "name": "stdout",
     "output_type": "stream",
     "text": [
      "name Maan Patel\n",
      "sex male\n",
      "age 23\n"
     ]
    }
   ],
   "source": [
    "person = {\n",
    "    \"name\" : \"Maan Patel\",\n",
    "    \"sex\" : \"male\",\n",
    "    \"age\": \"23\"\n",
    "}\n",
    "for i in person:\n",
    "    print(i,person[i])"
   ]
  },
  {
   "cell_type": "code",
   "execution_count": null,
   "id": "add4cef5",
   "metadata": {},
   "outputs": [],
   "source": []
  },
  {
   "cell_type": "code",
   "execution_count": null,
   "id": "6c1d3415",
   "metadata": {},
   "outputs": [],
   "source": []
  }
 ],
 "metadata": {
  "kernelspec": {
   "display_name": "Python 3 (ipykernel)",
   "language": "python",
   "name": "python3"
  },
  "language_info": {
   "codemirror_mode": {
    "name": "ipython",
    "version": 3
   },
   "file_extension": ".py",
   "mimetype": "text/x-python",
   "name": "python",
   "nbconvert_exporter": "python",
   "pygments_lexer": "ipython3",
   "version": "3.9.12"
  }
 },
 "nbformat": 4,
 "nbformat_minor": 5
}
