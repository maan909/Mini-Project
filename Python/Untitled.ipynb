{
 "cells": [
  {
   "cell_type": "markdown",
   "id": "e903c38e",
   "metadata": {},
   "source": [
    "Functions : Reuseable se of intructions \n",
    "           \n",
    "Types:    1. In-Built \n",
    "          2. User-Defined "
   ]
  },
  {
   "cell_type": "code",
   "execution_count": null,
   "id": "d176f526",
   "metadata": {},
   "outputs": [],
   "source": []
  }
 ],
 "metadata": {
  "kernelspec": {
   "display_name": "Python 3 (ipykernel)",
   "language": "python",
   "name": "python3"
  },
  "language_info": {
   "codemirror_mode": {
    "name": "ipython",
    "version": 3
   },
   "file_extension": ".py",
   "mimetype": "text/x-python",
   "name": "python",
   "nbconvert_exporter": "python",
   "pygments_lexer": "ipython3",
   "version": "3.9.12"
  }
 },
 "nbformat": 4,
 "nbformat_minor": 5
}
