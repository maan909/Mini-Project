{
 "cells": [
  {
   "cell_type": "markdown",
   "id": "2b05a7ce",
   "metadata": {},
   "source": [
    "# # Types of Numpy Matrix"
   ]
  },
  {
   "cell_type": "code",
   "execution_count": 2,
   "id": "b060d81c",
   "metadata": {},
   "outputs": [],
   "source": [
    "import numpy as np"
   ]
  },
  {
   "cell_type": "markdown",
   "id": "53dbc0e0",
   "metadata": {},
   "source": [
    "Array:- np.array"
   ]
  },
  {
   "cell_type": "code",
   "execution_count": 3,
   "id": "1a6be0a4",
   "metadata": {
    "scrolled": true
   },
   "outputs": [
    {
     "name": "stdout",
     "output_type": "stream",
     "text": [
      "[1, 2, 3, 4, 5]\n"
     ]
    }
   ],
   "source": [
    "List=[1,2,3,4,5]\n",
    "print(List)"
   ]
  },
  {
   "cell_type": "code",
   "execution_count": 4,
   "id": "a9bd527a",
   "metadata": {},
   "outputs": [
    {
     "name": "stdout",
     "output_type": "stream",
     "text": [
      "[[1 2 3 4 5]]\n"
     ]
    }
   ],
   "source": [
    "\n",
    "l=[1,2,3,4,5]\n",
    "array=np.array([List])\n",
    "print(array)"
   ]
  },
  {
   "cell_type": "markdown",
   "id": "f117a214",
   "metadata": {},
   "source": [
    "Identity Matrix :- np.eye()"
   ]
  },
  {
   "cell_type": "code",
   "execution_count": 5,
   "id": "2479c5f6",
   "metadata": {},
   "outputs": [
    {
     "name": "stdout",
     "output_type": "stream",
     "text": [
      "[[1. 0. 0.]\n",
      " [0. 1. 0.]\n",
      " [0. 0. 1.]]\n"
     ]
    }
   ],
   "source": [
    "ar= np.eye(3)\n",
    "print(ar)"
   ]
  },
  {
   "cell_type": "code",
   "execution_count": 15,
   "id": "ec871728",
   "metadata": {},
   "outputs": [
    {
     "name": "stdout",
     "output_type": "stream",
     "text": [
      "[[1. 0. 0. ... 0. 0. 0.]\n",
      " [0. 1. 0. ... 0. 0. 0.]\n",
      " [0. 0. 1. ... 0. 0. 0.]\n",
      " ...\n",
      " [0. 0. 0. ... 1. 0. 0.]\n",
      " [0. 0. 0. ... 0. 1. 0.]\n",
      " [0. 0. 0. ... 0. 0. 1.]]\n"
     ]
    }
   ],
   "source": [
    "array=np.eye(100,100)\n",
    "print(array)"
   ]
  },
  {
   "cell_type": "markdown",
   "id": "5d3b4fae",
   "metadata": {},
   "source": [
    "Ones:- np.ones()"
   ]
  },
  {
   "cell_type": "code",
   "execution_count": 6,
   "id": "cad68c36",
   "metadata": {},
   "outputs": [
    {
     "name": "stdout",
     "output_type": "stream",
     "text": [
      "[[1. 1. 1.]\n",
      " [1. 1. 1.]]\n"
     ]
    }
   ],
   "source": [
    "ones_array = np.ones((2,3))\n",
    "print(ones_array)"
   ]
  },
  {
   "cell_type": "code",
   "execution_count": 18,
   "id": "6a35fc36",
   "metadata": {
    "scrolled": false
   },
   "outputs": [
    {
     "name": "stdout",
     "output_type": "stream",
     "text": [
      "[[1. 1. 1.]\n",
      " [1. 1. 1.]]\n"
     ]
    }
   ],
   "source": [
    "ones_array = np.ones((2,3))\n",
    "print(ones_array)"
   ]
  },
  {
   "cell_type": "markdown",
   "id": "80332059",
   "metadata": {},
   "source": [
    "Empty:- np.empty()"
   ]
  },
  {
   "cell_type": "code",
   "execution_count": 7,
   "id": "95b31259",
   "metadata": {
    "scrolled": true
   },
   "outputs": [
    {
     "name": "stdout",
     "output_type": "stream",
     "text": [
      "[[         0 1072693248]\n",
      " [         0 1072693248]\n",
      " [         0 1072693248]]\n"
     ]
    }
   ],
   "source": [
    "#Empty_Array = np.empty(3)\n",
    "Empty_Array = np.empty([3,2],dtype=int)\n",
    "print(Empty_Array)"
   ]
  },
  {
   "cell_type": "code",
   "execution_count": 24,
   "id": "c4bc50d4",
   "metadata": {},
   "outputs": [
    {
     "name": "stdout",
     "output_type": "stream",
     "text": [
      "[[1 5 3 4 2]]\n",
      "[[1 2 3 4 5]]\n"
     ]
    }
   ],
   "source": [
    "List=[1,5,3,4,2]\n",
    "array=np.array([List])\n",
    "print(array)\n",
    "arranged_array=np.sort(array)\n",
    "print(arranged_array)"
   ]
  },
  {
   "cell_type": "markdown",
   "id": "c16a0ea4",
   "metadata": {},
   "source": [
    "Arrange function:- np.arrange()"
   ]
  },
  {
   "cell_type": "code",
   "execution_count": 27,
   "id": "27006c75",
   "metadata": {},
   "outputs": [
    {
     "name": "stdout",
     "output_type": "stream",
     "text": [
      "[1 2 3 4 5 6 7 8 9]\n",
      "<class 'numpy.ndarray'>\n"
     ]
    }
   ],
   "source": [
    "A=np.arange(1,10,1)\n",
    "print(A)\n",
    "print(type(A))"
   ]
  },
  {
   "cell_type": "code",
   "execution_count": null,
   "id": "43ec0d34",
   "metadata": {},
   "outputs": [],
   "source": []
  }
 ],
 "metadata": {
  "kernelspec": {
   "display_name": "Python 3 (ipykernel)",
   "language": "python",
   "name": "python3"
  },
  "language_info": {
   "codemirror_mode": {
    "name": "ipython",
    "version": 3
   },
   "file_extension": ".py",
   "mimetype": "text/x-python",
   "name": "python",
   "nbconvert_exporter": "python",
   "pygments_lexer": "ipython3",
   "version": "3.9.12"
  }
 },
 "nbformat": 4,
 "nbformat_minor": 5
}
