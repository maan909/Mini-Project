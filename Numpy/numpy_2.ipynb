{
 "cells": [
  {
   "cell_type": "markdown",
   "id": "ce9bdd2c",
   "metadata": {},
   "source": [
    "# Numpy Data Type:\n",
    "\n",
    "1. bool_\n",
    "2. int_\n",
    "3. int"
   ]
  },
  {
   "cell_type": "code",
   "execution_count": 16,
   "id": "8e4d767e",
   "metadata": {
    "scrolled": true
   },
   "outputs": [
    {
     "name": "stdout",
     "output_type": "stream",
     "text": [
      "[6.01346953e-154 2.52760136e-258 4.47593804e-091 6.01346953e-154]\n",
      "float64\n"
     ]
    }
   ],
   "source": [
    "import numpy as np \n",
    "\n",
    "empty=np.empty(4)\n",
    "print(empty)\n",
    "\n",
    "print(empty.dtype)\n"
   ]
  },
  {
   "cell_type": "code",
   "execution_count": 17,
   "id": "f75db0c9",
   "metadata": {},
   "outputs": [
    {
     "name": "stdout",
     "output_type": "stream",
     "text": [
      "int32\n"
     ]
    }
   ],
   "source": [
    "array=np.array([1,2,4,5])\n",
    "print(array.dtype)"
   ]
  },
  {
   "cell_type": "code",
   "execution_count": 18,
   "id": "9e2e10e3",
   "metadata": {},
   "outputs": [
    {
     "name": "stdout",
     "output_type": "stream",
     "text": [
      "<U1\n"
     ]
    }
   ],
   "source": [
    "array1=np.array([\"a\",'b','c','d','e','f'])\n",
    "print(array1.dtype) #String"
   ]
  },
  {
   "cell_type": "code",
   "execution_count": 19,
   "id": "1b84c228",
   "metadata": {},
   "outputs": [
    {
     "name": "stdout",
     "output_type": "stream",
     "text": [
      "<U11\n"
     ]
    }
   ],
   "source": [
    "array2=np.array([\"a\",\"b\",1,2,3,4])\n",
    "print(array2.dtype) #integer + String"
   ]
  },
  {
   "cell_type": "markdown",
   "id": "2aa45c16",
   "metadata": {},
   "source": [
    "# Type casting in numpy:"
   ]
  },
  {
   "cell_type": "code",
   "execution_count": 20,
   "id": "89e643bf",
   "metadata": {},
   "outputs": [
    {
     "name": "stdout",
     "output_type": "stream",
     "text": [
      "float32\n"
     ]
    }
   ],
   "source": [
    "# Method 1\n",
    "\n",
    "x1=np.array([1,2,3,4], dtype=np.float32)\n",
    "print(x1.dtype)    "
   ]
  },
  {
   "cell_type": "code",
   "execution_count": 21,
   "id": "68ca5298",
   "metadata": {},
   "outputs": [
    {
     "name": "stdout",
     "output_type": "stream",
     "text": [
      "float32\n"
     ]
    }
   ],
   "source": [
    "# Method 2\n",
    "\n",
    "x2=np.array([1,2,3,4], dtype='f')\n",
    "print(x2.dtype)    "
   ]
  },
  {
   "cell_type": "code",
   "execution_count": 22,
   "id": "57a082ac",
   "metadata": {},
   "outputs": [
    {
     "name": "stdout",
     "output_type": "stream",
     "text": [
      "int32\n",
      "float32\n"
     ]
    }
   ],
   "source": [
    "# Method 3 \n",
    " \n",
    "x3=np.array([1,2,3,4,5,6,7])\n",
    "print(x3.dtype)\n",
    "\n",
    "new_datatype=np.float32(x3)\n",
    "print(new_datatype.dtype)"
   ]
  },
  {
   "cell_type": "code",
   "execution_count": 23,
   "id": "4df1c95e",
   "metadata": {},
   "outputs": [
    {
     "name": "stdout",
     "output_type": "stream",
     "text": [
      "[11 33 55 77 99]\n",
      "[11. 33. 55. 77. 99.]\n"
     ]
    }
   ],
   "source": [
    "# Method 4\n",
    "\n",
    "A = np.array([11,33,55,77,99])\n",
    "\n",
    "New_A = A.astype(float)\n",
    " \n",
    "print(A)\n",
    "print(New_A)"
   ]
  },
  {
   "cell_type": "markdown",
   "id": "38e19fcc",
   "metadata": {},
   "source": [
    "# Shape and Reshaping in nupy array:\n",
    "\n"
   ]
  },
  {
   "cell_type": "code",
   "execution_count": 26,
   "id": "186f2c4e",
   "metadata": {},
   "outputs": [
    {
     "name": "stdout",
     "output_type": "stream",
     "text": [
      "[[1 2 3]\n",
      " [1 2 3]]\n",
      "(2, 3)\n",
      "\n",
      "[[1]\n",
      " [1]]\n",
      "(2, 1)\n",
      "[[[1 2 3 4]]]\n",
      "3\n",
      "(1, 1, 4)\n",
      "2\n"
     ]
    }
   ],
   "source": [
    "array=np.array([[1,2,3],[1,2,3]])\n",
    "print(array)\n",
    "print(array.shape)\n",
    "\n",
    "print()\n",
    "\n",
    "\n",
    "array_1=np.array([[1],[1]])\n",
    "print(array_1)\n",
    "print(array_1.shape)\n",
    "\n",
    "array_2=np.array([1,2,3,4],ndmin=3)\n",
    "print(array_2)\n",
    "print(array_2.ndim)\n",
    "print(array_2.shape)\n",
    "\n",
    "array_3=np.array([[[1,2,3],[4,5,6]]])\n",
    "print(array.ndim)\n"
   ]
  },
  {
   "cell_type": "code",
   "execution_count": 16,
   "id": "1f72b1ae",
   "metadata": {
    "scrolled": false
   },
   "outputs": [
    {
     "name": "stdout",
     "output_type": "stream",
     "text": [
      "<class 'str'>\n",
      "72\n",
      "49\n",
      "['H', '1', 'E', '2', '1', 'L', '3', 'L', '4', 'O', '5']\n",
      "<class 'str'>\n"
     ]
    },
    {
     "ename": "TypeError",
     "evalue": "can only concatenate str (not \"int\") to str",
     "output_type": "error",
     "traceback": [
      "\u001b[1;31m---------------------------------------------------------------------------\u001b[0m",
      "\u001b[1;31mTypeError\u001b[0m                                 Traceback (most recent call last)",
      "Input \u001b[1;32mIn [16]\u001b[0m, in \u001b[0;36m<cell line: 17>\u001b[1;34m()\u001b[0m\n\u001b[0;32m     17\u001b[0m \u001b[38;5;28;01mfor\u001b[39;00m i \u001b[38;5;129;01min\u001b[39;00m y:\n\u001b[0;32m     18\u001b[0m     \u001b[38;5;28;01mif\u001b[39;00m \u001b[38;5;28mord\u001b[39m(i)\u001b[38;5;241m>\u001b[39m\u001b[38;5;241m=\u001b[39m\u001b[38;5;241m49\u001b[39m \u001b[38;5;129;01mand\u001b[39;00m \u001b[38;5;28mord\u001b[39m(i)\u001b[38;5;241m<\u001b[39m\u001b[38;5;241m=\u001b[39m\u001b[38;5;241m57\u001b[39m:\n\u001b[1;32m---> 19\u001b[0m         \u001b[38;5;28;01mif\u001b[39;00m i \u001b[38;5;129;01mand\u001b[39;00m \u001b[43mi\u001b[49m\u001b[38;5;241;43m+\u001b[39;49m\u001b[38;5;241;43m1\u001b[39;49m \u001b[38;5;241m==\u001b[39m \u001b[38;5;241m49\u001b[39m\u001b[38;5;241m<\u001b[39m\u001b[38;5;241m=\u001b[39m\u001b[38;5;28mord\u001b[39m(i)\u001b[38;5;241m<\u001b[39m\u001b[38;5;241m=\u001b[39m\u001b[38;5;241m57\u001b[39m:\n\u001b[0;32m     20\u001b[0m             x\u001b[38;5;241m=\u001b[39mi\n\u001b[0;32m     21\u001b[0m             y\u001b[38;5;241m=\u001b[39mi\u001b[38;5;241m+\u001b[39m\u001b[38;5;241m1\u001b[39m\n",
      "\u001b[1;31mTypeError\u001b[0m: can only concatenate str (not \"int\") to str"
     ]
    }
   ],
   "source": [
    "x=\"H1E21L3L4O5\"\n",
    "#x1 = int(string) \n",
    "y=list(x)\n",
    "z=[]\n",
    "\n",
    "#print(type(string))\n",
    "print(type(x))\n",
    "\n",
    "\n",
    "print(ord(y[0]))\n",
    "\n",
    "print(ord(y[1]))\n",
    "\n",
    "print (y)\n",
    "print(type(y[1]))\n",
    "\n",
    "for i in y:\n",
    "    if ord(i)>=49 and ord(i)<=57:\n",
    "        if i and i+1 == 49<=ord(i)<=57:\n",
    "               \n",
    "        z.append(int(A))\n",
    "\n",
    "sum=0\n",
    "\n",
    "\n",
    "for i in z:\n",
    "    sum=sum+i\n",
    "    \n",
    "print(sum)\n",
    "\n"
   ]
  },
  {
   "cell_type": "code",
   "execution_count": 13,
   "id": "bf12796c",
   "metadata": {},
   "outputs": [
    {
     "ename": "TypeError",
     "evalue": "ord() expected string of length 1, but int found",
     "output_type": "error",
     "traceback": [
      "\u001b[1;31m---------------------------------------------------------------------------\u001b[0m",
      "\u001b[1;31mTypeError\u001b[0m                                 Traceback (most recent call last)",
      "Input \u001b[1;32mIn [13]\u001b[0m, in \u001b[0;36m<cell line: 2>\u001b[1;34m()\u001b[0m\n\u001b[0;32m      1\u001b[0m x\u001b[38;5;241m=\u001b[39m[\u001b[38;5;241m21\u001b[39m,\u001b[38;5;241m20\u001b[39m]\n\u001b[1;32m----> 2\u001b[0m \u001b[38;5;28mprint\u001b[39m(\u001b[38;5;28;43mord\u001b[39;49m\u001b[43m(\u001b[49m\u001b[43mx\u001b[49m\u001b[43m[\u001b[49m\u001b[38;5;241;43m1\u001b[39;49m\u001b[43m]\u001b[49m\u001b[43m)\u001b[49m)\n",
      "\u001b[1;31mTypeError\u001b[0m: ord() expected string of length 1, but int found"
     ]
    }
   ],
   "source": [
    "x=[21,20]\n",
    "print(ord(x[1]))"
   ]
  },
  {
   "cell_type": "markdown",
   "id": "128777dd",
   "metadata": {},
   "source": [
    "# "
   ]
  },
  {
   "cell_type": "markdown",
   "id": "f9ded4cb",
   "metadata": {},
   "source": [
    "# Arithmetic Operations:- \n",
    "\n",
    "1. a+b   OR   np.add(a,b)\n",
    "2. a-b   OR   np.subtract(a,b)\n",
    "3. a*b   OR   np.multipy(a,b)\n",
    "4. a/b   \n",
    "5. a%b\n",
    "6. a**b\n",
    "7. 1/a"
   ]
  },
  {
   "cell_type": "code",
   "execution_count": 3,
   "id": "5f836289",
   "metadata": {},
   "outputs": [
    {
     "name": "stdout",
     "output_type": "stream",
     "text": [
      "[4 5 6 7]\n"
     ]
    }
   ],
   "source": [
    "import numpy as np \n",
    "\n",
    "var = np.array([1,2,3,4])\n",
    "\n",
    "varadd = var + 3 \n",
    "print(varadd)"
   ]
  },
  {
   "cell_type": "code",
   "execution_count": 4,
   "id": "c124fb06",
   "metadata": {},
   "outputs": [
    {
     "name": "stdout",
     "output_type": "stream",
     "text": [
      "int32\n",
      "[ 3  6  9 12]\n",
      "\n",
      "[0.5 1.  1.5 2. ]\n",
      "float64\n"
     ]
    }
   ],
   "source": [
    "A = np.array([1,2,3,4])\n",
    "print(A.dtype)\n",
    "B = A*3\n",
    "B\n",
    "print(B)\n",
    "\n",
    "print()\n",
    "\n",
    "C=A/2\n",
    "print(C)\n",
    "\n",
    "print(C.dtype)"
   ]
  },
  {
   "cell_type": "code",
   "execution_count": 5,
   "id": "284c87b6",
   "metadata": {},
   "outputs": [
    {
     "name": "stdout",
     "output_type": "stream",
     "text": [
      "[ 2  6 12]\n",
      "int32\n",
      "\n",
      "[3 5 7]\n",
      "\n",
      "[ 2  6 12]\n",
      "\n",
      "[ 1  8 81]\n"
     ]
    }
   ],
   "source": [
    "x= np.array([1,2,3])\n",
    "y=np.array([2,3,4])\n",
    "z=x*y\n",
    "print(z)\n",
    "print(z.dtype)\n",
    "\n",
    "print()\n",
    "\n",
    "Q1=np.add(x,y)\n",
    "print(Q1)\n",
    "\n",
    "print()\n",
    "\n",
    "Q2=np.multiply(x,y)\n",
    "print(Q2)\n",
    "\n",
    "print()\n",
    "\n",
    "Q3=np.power(x,y)\n",
    "print(Q3)"
   ]
  },
  {
   "cell_type": "code",
   "execution_count": 11,
   "id": "f72ca556",
   "metadata": {},
   "outputs": [
    {
     "name": "stdout",
     "output_type": "stream",
     "text": [
      "1\n",
      "heloooo\n"
     ]
    },
    {
     "data": {
      "text/plain": [
       "array([1.        , 1.41421356, 1.73205081])"
      ]
     },
     "execution_count": 11,
     "metadata": {},
     "output_type": "execute_result"
    }
   ],
   "source": [
    "x= np.array([1,2,3])\n",
    "y=np.array([2,3,4])\n",
    "\n",
    "a1=np.min(x)\n",
    "print(a1)\n",
    "\n",
    "a2=np.max(y)\n",
    "a2\n",
    "\n",
    "a3=np.argmin(y)\n",
    "a3\n",
    "\n",
    "print(\"heloooo\")\n",
    "a4=np.sqrt(x)\n",
    "a4\n"
   ]
  },
  {
   "cell_type": "code",
   "execution_count": null,
   "id": "0285a68b",
   "metadata": {},
   "outputs": [],
   "source": []
  },
  {
   "cell_type": "code",
   "execution_count": null,
   "id": "9781fdb7",
   "metadata": {},
   "outputs": [],
   "source": []
  }
 ],
 "metadata": {
  "kernelspec": {
   "display_name": "Python 3 (ipykernel)",
   "language": "python",
   "name": "python3"
  },
  "language_info": {
   "codemirror_mode": {
    "name": "ipython",
    "version": 3
   },
   "file_extension": ".py",
   "mimetype": "text/x-python",
   "name": "python",
   "nbconvert_exporter": "python",
   "pygments_lexer": "ipython3",
   "version": "3.9.12"
  }
 },
 "nbformat": 4,
 "nbformat_minor": 5
}
